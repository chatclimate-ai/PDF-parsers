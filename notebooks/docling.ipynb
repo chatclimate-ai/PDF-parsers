{
 "cells": [
  {
   "cell_type": "markdown",
   "metadata": {},
   "source": [
    "# Docling"
   ]
  },
  {
   "cell_type": "code",
   "execution_count": 1,
   "metadata": {},
   "outputs": [],
   "source": [
    "import datetime\n",
    "import logging\n",
    "import time\n",
    "from pathlib import Path\n",
    "import pandas as pd"
   ]
  },
  {
   "cell_type": "code",
   "execution_count": 45,
   "metadata": {},
   "outputs": [],
   "source": [
    "input_doc_paths = [\n",
    "        # Path(\"../data/coca-cola-business-and-sustainability-report-2018.pdf\"), # english\n",
    "        # Path(\"../data/2023-saudi-aramco-sustainability-report-full-ar.pdf\"), # arabic\n",
    "        # Path(\"../data/2023-saudi-aramco-sustainability-report-full-en.pdf\"), # english\n",
    "        # Path(\"../data/20230926-rockwool-brochure-faq-bd.pdf\"), # french\n",
    "        # Path(\"../data/Scanned rockwool.pdf\") # scanned/french\n",
    "        # Path(\"../data/CC_EULA_Gen_WWCombined-MULTI-20121017_1230.pdf\") # multi\n",
    "        # Path(\"../data/websites/acciona.pdf\"),\n",
    "        # Path(\"../data/websites/adobe.pdf\"),\n",
    "        # Path(\"../data/websites/edp.pdf\"),\n",
    "        # Path(\"../data/websites/ikea.pdf\"),\n",
    "        # Path(\"../data/websites/leaseplan.pdf\"),\n",
    "        # Path(\"../data/websites/mars.pdf\"),\n",
    "        # Path(\"../data/websites/rockwool.pdf\"),\n",
    "        # Path(\"../data/websites/vestas.pdf\"),\n",
    "        Path(\"../data/websites/vfc.pdf\")\n",
    "\n",
    "    ]\n",
    "output_dir = Path(\"../output_websites\")"
   ]
  },
  {
   "cell_type": "markdown",
   "metadata": {},
   "source": [
    "# Export multimodal Docling Example"
   ]
  },
  {
   "cell_type": "code",
   "execution_count": null,
   "metadata": {},
   "outputs": [],
   "source": [
    "from docling.datamodel.base_models import AssembleOptions, ConversionStatus\n",
    "from docling.datamodel.document import DocumentConversionInput\n",
    "from docling.document_converter import DocumentConverter\n",
    "from docling.utils.export import generate_multimodal_pages\n",
    "\n",
    "_log = logging.getLogger(__name__)\n",
    "\n",
    "IMAGE_RESOLUTION_SCALE = 2.0\n",
    "\n",
    "\n",
    "def main():\n",
    "    logging.basicConfig(level=logging.INFO)\n",
    "    input_files = DocumentConversionInput.from_paths(input_doc_paths)\n",
    "\n",
    "    # Important: For operating with page images, we must keep them, otherwise the DocumentConverter\n",
    "    # will destroy them for cleaning up memory.\n",
    "    # This is done by setting AssembleOptions.images_scale, which also defines the scale of images.\n",
    "    # scale=1 correspond of a standard 72 DPI image\n",
    "    assemble_options = AssembleOptions()\n",
    "    assemble_options.images_scale = IMAGE_RESOLUTION_SCALE\n",
    "\n",
    "    doc_converter = DocumentConverter(assemble_options=assemble_options)\n",
    "\n",
    "    start_time = time.time()\n",
    "\n",
    "    converted_docs = doc_converter.convert(input_files)\n",
    "    success_count = 0\n",
    "    failure_count = 0\n",
    "    output_dir.mkdir(parents=True, exist_ok=True)\n",
    "    rows = []\n",
    "    for doc in converted_docs:\n",
    "        if doc.status != ConversionStatus.SUCCESS:\n",
    "            _log.info(f\"Document {doc.input.file} failed to convert.\")\n",
    "            failure_count += 1\n",
    "            continue\n",
    "        for (\n",
    "            content_text,\n",
    "            content_md,\n",
    "            content_dt,\n",
    "            page_cells,\n",
    "            page_segments,\n",
    "            page,\n",
    "        ) in generate_multimodal_pages(doc):\n",
    "\n",
    "            dpi = page._default_image_scale * 72\n",
    "\n",
    "            rows.append(\n",
    "                {\n",
    "                    \"document\": doc.input.file.name,\n",
    "                    \"hash\": doc.input.document_hash,\n",
    "                    \"page_hash\": page.page_hash,\n",
    "                    \"image\": {\n",
    "                        \"width\": page.image.width,\n",
    "                        \"height\": page.image.height,\n",
    "                        \"bytes\": page.image.tobytes(),\n",
    "                    },\n",
    "                    \"cells\": page_cells,\n",
    "                    \"contents\": content_text,\n",
    "                    \"contents_md\": content_md,\n",
    "                    \"contents_dt\": content_dt,\n",
    "                    \"segments\": page_segments,\n",
    "                    \"extra\": {\n",
    "                        \"page_num\": page.page_no + 1,\n",
    "                        \"width_in_points\": page.size.width,\n",
    "                        \"height_in_points\": page.size.height,\n",
    "                        \"dpi\": dpi,\n",
    "                    },\n",
    "                }\n",
    "            )\n",
    "        success_count += 1\n",
    "\n",
    "    print('Success count:', success_count)\n",
    "\n",
    "    # Generate one parquet from all documents\n",
    "    df = pd.json_normalize(rows)\n",
    "    now = datetime.datetime.now()\n",
    "    output_filename = output_dir / f\"multimodal_{now:%Y-%m-%d_%H%M%S}.parquet\"\n",
    "    df.to_parquet(output_filename)\n",
    "\n",
    "    end_time = time.time() - start_time\n",
    "\n",
    "    _log.info(f\"All documents were converted in {end_time:.2f} seconds.\")\n",
    "\n",
    "    if failure_count > 0:\n",
    "        raise RuntimeError(\n",
    "            f\"The example failed converting {failure_count} on {len(input_doc_paths)}.\"\n",
    "        )\n",
    "\n",
    "if __name__ == \"__main__\":\n",
    "    main()"
   ]
  },
  {
   "cell_type": "markdown",
   "metadata": {},
   "source": [
    "### Load"
   ]
  },
  {
   "cell_type": "code",
   "execution_count": null,
   "metadata": {},
   "outputs": [],
   "source": [
    "# This block demonstrates how the file can be opened with the HF datasets library\n",
    "from datasets import Dataset\n",
    "from PIL import Image\n",
    "multimodal_df = pd.read_parquet(\"./scratch/multimodal_2024-09-19_125111.parquet\")\n",
    "\n",
    "# Convert pandas DataFrame to Hugging Face Dataset and load bytes into image\n",
    "dataset = Dataset.from_pandas(multimodal_df)\n",
    "def transforms(examples):\n",
    "    examples[\"image\"] = Image.frombytes('RGB', (examples[\"image.width\"], examples[\"image.height\"]), examples[\"image.bytes\"], 'raw')\n",
    "    return examples\n",
    "dataset = dataset.map(transforms)\n",
    "\n",
    "dataset"
   ]
  },
  {
   "cell_type": "code",
   "execution_count": null,
   "metadata": {},
   "outputs": [],
   "source": [
    "print(dataset.column_names)"
   ]
  },
  {
   "cell_type": "code",
   "execution_count": 8,
   "metadata": {},
   "outputs": [],
   "source": [
    "dataset[1]['image'].show()"
   ]
  },
  {
   "cell_type": "code",
   "execution_count": null,
   "metadata": {},
   "outputs": [],
   "source": [
    "print(f\"Dataset contains {len(dataset)} samples.\")"
   ]
  },
  {
   "cell_type": "markdown",
   "metadata": {},
   "source": [
    "# Convert a single Document"
   ]
  },
  {
   "cell_type": "code",
   "execution_count": null,
   "metadata": {},
   "outputs": [],
   "source": [
    "from docling.document_converter import DocumentConverter\n",
    "\n",
    "source = input_doc_paths[0]\n",
    "converter = DocumentConverter()\n",
    "result = converter.convert_single(source)\n",
    "md = result.render_as_markdown()\n",
    "\n",
    "with open(f\"{output_dir}/markdown.md\", \"w\") as file:\n",
    "    file.write(md)"
   ]
  },
  {
   "cell_type": "markdown",
   "metadata": {},
   "source": [
    "# Custom Conversion"
   ]
  },
  {
   "cell_type": "code",
   "execution_count": 4,
   "metadata": {},
   "outputs": [],
   "source": [
    "import json\n",
    "import logging\n",
    "import time\n",
    "from pathlib import Path\n",
    "from typing import Iterable\n",
    "\n",
    "from docling.backend.docling_parse_backend import DoclingParseDocumentBackend\n",
    "from docling.backend.pypdfium2_backend import PyPdfiumDocumentBackend\n",
    "from docling.datamodel.base_models import ConversionStatus, PipelineOptions\n",
    "from docling.datamodel.document import ConversionResult, DocumentConversionInput\n",
    "from docling.document_converter import DocumentConverter\n",
    "from docling.datamodel.document import DocumentLimits\n",
    "\n",
    "_log = logging.getLogger(__name__)\n",
    "\n",
    "\n",
    "def export_documents(\n",
    "    conv_results: Iterable[ConversionResult],\n",
    "    output_dir: Path,\n",
    "    method: str\n",
    "):\n",
    "    output_dir.mkdir(parents=True, exist_ok=True)\n",
    "\n",
    "    success_count = 0\n",
    "    failure_count = 0\n",
    "\n",
    "    for conv_res in conv_results:\n",
    "        if conv_res.status == ConversionStatus.SUCCESS:\n",
    "            success_count += 1\n",
    "            doc_filename = conv_res.input.file.stem\n",
    "\n",
    "            # Export Deep Search document JSON format:\n",
    "            # with (output_dir / f\"{doc_filename}.json\").open(\"w\") as fp:\n",
    "            #     fp.write(json.dumps(conv_res.render_as_dict()))\n",
    "\n",
    "            # # Export Text format:\n",
    "            # with (output_dir / f\"{doc_filename}.txt\").open(\"w\") as fp:\n",
    "            #     fp.write(conv_res.render_as_text())\n",
    "\n",
    "            # Export Markdown format:\n",
    "            with (output_dir / f\"{doc_filename}_{method}.md\").open(\"w\") as fp:\n",
    "                fp.write(conv_res.render_as_markdown())\n",
    "\n",
    "            # # Export Document Tags format:\n",
    "            # with (output_dir / f\"{doc_filename}.doctags\").open(\"w\") as fp:\n",
    "            #     fp.write(conv_res.render_as_doctags())\n",
    "\n",
    "        else:\n",
    "            _log.info(f\"Document {conv_res.input.file} failed to convert.\")\n",
    "            failure_count += 1\n",
    "\n",
    "    _log.info(\n",
    "        f\"Processed {success_count + failure_count} docs, of which {failure_count} failed\"\n",
    "    )\n",
    "\n",
    "    return success_count, failure_count"
   ]
  },
  {
   "cell_type": "markdown",
   "metadata": {},
   "source": [
    "### PyPdfium without OCR"
   ]
  },
  {
   "cell_type": "code",
   "execution_count": 46,
   "metadata": {},
   "outputs": [
    {
     "name": "stderr",
     "output_type": "stream",
     "text": [
      "Fetching 10 files: 100%|██████████| 10/10 [00:00<00:00, 153637.51it/s]\n",
      "/Users/imenekolli/Library/Caches/pypoetry/virtualenvs/pdf-parsers-JBBPt_VR-py3.11/lib/python3.11/site-packages/torch/nn/modules/transformer.py:307: UserWarning: enable_nested_tensor is True, but self.use_nested_tensor is False because encoder_layer.self_attn.batch_first was not True(use batch_first for better inference performance)\n",
      "  warnings.warn(f\"enable_nested_tensor is True, but self.use_nested_tensor is False because {why_not_sparsity_fast_path}\")\n",
      "INFO:docling.document_converter:Going to convert document batch...\n",
      "INFO:docling.document_converter:Processing document vfc.pdf\n",
      "INFO:docling.document_converter:Finished converting page batch time=1.284\n",
      "INFO:docling.document_converter:Finished converting document time-pages=1.30/1\n",
      "INFO:__main__:Processed 1 docs, of which 0 failed\n",
      "INFO:__main__:All documents were converted in 1.32 seconds.\n"
     ]
    }
   ],
   "source": [
    "def main():\n",
    "    logging.basicConfig(level=logging.INFO)\n",
    "    pipeline_options = PipelineOptions()\n",
    "    pipeline_options.do_ocr=False\n",
    "    pipeline_options.do_table_structure=True\n",
    "    pipeline_options.table_structure_options.do_cell_matching = False\n",
    "\n",
    "    doc_converter = DocumentConverter(\n",
    "        pipeline_options=pipeline_options,\n",
    "        pdf_backend=PyPdfiumDocumentBackend,\n",
    "    )\n",
    "    limits = DocumentLimits(max_pages=5)\n",
    "    # Define input files\n",
    "    input_f = DocumentConversionInput.from_paths(input_doc_paths, limits=limits)\n",
    "\n",
    "    start_time = time.time()\n",
    "\n",
    "    conv_results = doc_converter.convert(input_f)\n",
    "    success_count, failure_count = export_documents(\n",
    "        conv_results, output_dir=output_dir, method = \"pypdfium\"\n",
    "    )\n",
    "\n",
    "    end_time = time.time() - start_time\n",
    "\n",
    "    _log.info(f\"All documents were converted in {end_time:.2f} seconds.\")\n",
    "\n",
    "    if failure_count > 0:\n",
    "        raise RuntimeError(\n",
    "            f\"The example failed converting {failure_count} on {len(input_doc_paths)}.\"\n",
    "        )\n",
    "\n",
    "if __name__ == \"__main__\":\n",
    "    main()"
   ]
  },
  {
   "cell_type": "markdown",
   "metadata": {},
   "source": [
    "### PyPdfium with OCR"
   ]
  },
  {
   "cell_type": "code",
   "execution_count": 47,
   "metadata": {},
   "outputs": [
    {
     "name": "stderr",
     "output_type": "stream",
     "text": [
      "Fetching 10 files: 100%|██████████| 10/10 [00:00<00:00, 140277.73it/s]\n",
      "/Users/imenekolli/Library/Caches/pypoetry/virtualenvs/pdf-parsers-JBBPt_VR-py3.11/lib/python3.11/site-packages/torch/nn/modules/transformer.py:307: UserWarning: enable_nested_tensor is True, but self.use_nested_tensor is False because encoder_layer.self_attn.batch_first was not True(use batch_first for better inference performance)\n",
      "  warnings.warn(f\"enable_nested_tensor is True, but self.use_nested_tensor is False because {why_not_sparsity_fast_path}\")\n",
      "INFO:docling.document_converter:Going to convert document batch...\n",
      "INFO:docling.document_converter:Processing document vfc.pdf\n",
      "INFO:docling.document_converter:Finished converting page batch time=1.252\n",
      "INFO:docling.document_converter:Finished converting document time-pages=1.27/1\n",
      "INFO:__main__:Processed 1 docs, of which 0 failed\n",
      "INFO:__main__:All documents were converted in 1.28 seconds.\n"
     ]
    }
   ],
   "source": [
    "def main():\n",
    "    logging.basicConfig(level=logging.INFO)\n",
    "    pipeline_options = PipelineOptions()\n",
    "    pipeline_options.do_ocr=False\n",
    "    pipeline_options.do_table_structure=True\n",
    "    pipeline_options.table_structure_options.do_cell_matching = True\n",
    "\n",
    "    doc_converter = DocumentConverter(\n",
    "        pipeline_options=pipeline_options,\n",
    "        pdf_backend=PyPdfiumDocumentBackend,\n",
    "    )\n",
    "\n",
    "    # Define input files\n",
    "    input_f = DocumentConversionInput.from_paths(input_doc_paths)\n",
    "\n",
    "    start_time = time.time()\n",
    "\n",
    "    conv_results = doc_converter.convert(input_f)\n",
    "    success_count, failure_count = export_documents(\n",
    "        conv_results, output_dir=output_dir, method= \"pypdfium_ocr\"\n",
    "    )\n",
    "\n",
    "    end_time = time.time() - start_time\n",
    "\n",
    "    _log.info(f\"All documents were converted in {end_time:.2f} seconds.\")\n",
    "\n",
    "    if failure_count > 0:\n",
    "        raise RuntimeError(\n",
    "            f\"The example failed converting {failure_count} on {len(input_doc_paths)}.\"\n",
    "        )\n",
    "\n",
    "if __name__ == \"__main__\":\n",
    "    main()\n"
   ]
  },
  {
   "cell_type": "markdown",
   "metadata": {},
   "source": [
    "### Docling Parse without OCR"
   ]
  },
  {
   "cell_type": "code",
   "execution_count": 48,
   "metadata": {},
   "outputs": [
    {
     "name": "stderr",
     "output_type": "stream",
     "text": [
      "Fetching 10 files: 100%|██████████| 10/10 [00:00<00:00, 126716.13it/s]\n",
      "/Users/imenekolli/Library/Caches/pypoetry/virtualenvs/pdf-parsers-JBBPt_VR-py3.11/lib/python3.11/site-packages/torch/nn/modules/transformer.py:307: UserWarning: enable_nested_tensor is True, but self.use_nested_tensor is False because encoder_layer.self_attn.batch_first was not True(use batch_first for better inference performance)\n",
      "  warnings.warn(f\"enable_nested_tensor is True, but self.use_nested_tensor is False because {why_not_sparsity_fast_path}\")\n",
      "INFO:docling.document_converter:Going to convert document batch...\n",
      "INFO:docling.document_converter:Processing document vfc.pdf\n",
      "INFO:docling.document_converter:Finished converting page batch time=1.445\n",
      "INFO:docling.document_converter:Finished converting document time-pages=1.46/1\n",
      "INFO:__main__:Processed 1 docs, of which 0 failed\n",
      "INFO:__main__:All documents were converted in 1.93 seconds.\n"
     ]
    }
   ],
   "source": [
    "def main():\n",
    "    logging.basicConfig(level=logging.INFO)\n",
    "    pipeline_options = PipelineOptions()\n",
    "    pipeline_options.do_ocr = False\n",
    "    pipeline_options.do_table_structure = True\n",
    "    pipeline_options.table_structure_options.do_cell_matching = True\n",
    "\n",
    "    doc_converter = DocumentConverter(\n",
    "        pipeline_options=pipeline_options,\n",
    "        pdf_backend=DoclingParseDocumentBackend,\n",
    "    )\n",
    "\n",
    "    # Define input files\n",
    "    input_f = DocumentConversionInput.from_paths(input_doc_paths)\n",
    "\n",
    "    start_time = time.time()\n",
    "\n",
    "    conv_results = doc_converter.convert(input_f)\n",
    "    success_count, failure_count = export_documents(\n",
    "        conv_results, output_dir=output_dir, method= \"docling\"\n",
    "    )\n",
    "\n",
    "    end_time = time.time() - start_time\n",
    "\n",
    "    _log.info(f\"All documents were converted in {end_time:.2f} seconds.\")\n",
    "\n",
    "    if failure_count > 0:\n",
    "        raise RuntimeError(\n",
    "            f\"The example failed converting {failure_count} on {len(input_doc_paths)}.\"\n",
    "        )\n",
    "\n",
    "\n",
    "if __name__ == \"__main__\":\n",
    "    main()"
   ]
  },
  {
   "cell_type": "markdown",
   "metadata": {},
   "source": [
    "### Docling Parse with OCR"
   ]
  },
  {
   "cell_type": "code",
   "execution_count": 49,
   "metadata": {},
   "outputs": [
    {
     "name": "stderr",
     "output_type": "stream",
     "text": [
      "Fetching 10 files: 100%|██████████| 10/10 [00:00<00:00, 169809.88it/s]\n",
      "/Users/imenekolli/Library/Caches/pypoetry/virtualenvs/pdf-parsers-JBBPt_VR-py3.11/lib/python3.11/site-packages/easyocr/detection.py:85: FutureWarning: You are using `torch.load` with `weights_only=False` (the current default value), which uses the default pickle module implicitly. It is possible to construct malicious pickle data which will execute arbitrary code during unpickling (See https://github.com/pytorch/pytorch/blob/main/SECURITY.md#untrusted-models for more details). In a future release, the default value for `weights_only` will be flipped to `True`. This limits the functions that could be executed during unpickling. Arbitrary objects will no longer be allowed to be loaded via this mode unless they are explicitly allowlisted by the user via `torch.serialization.add_safe_globals`. We recommend you start setting `weights_only=True` for any use case where you don't have full control of the loaded file. Please open an issue on GitHub for any issues related to this experimental feature.\n",
      "  net.load_state_dict(copyStateDict(torch.load(trained_model, map_location=device)))\n",
      "/Users/imenekolli/Library/Caches/pypoetry/virtualenvs/pdf-parsers-JBBPt_VR-py3.11/lib/python3.11/site-packages/easyocr/recognition.py:182: FutureWarning: You are using `torch.load` with `weights_only=False` (the current default value), which uses the default pickle module implicitly. It is possible to construct malicious pickle data which will execute arbitrary code during unpickling (See https://github.com/pytorch/pytorch/blob/main/SECURITY.md#untrusted-models for more details). In a future release, the default value for `weights_only` will be flipped to `True`. This limits the functions that could be executed during unpickling. Arbitrary objects will no longer be allowed to be loaded via this mode unless they are explicitly allowlisted by the user via `torch.serialization.add_safe_globals`. We recommend you start setting `weights_only=True` for any use case where you don't have full control of the loaded file. Please open an issue on GitHub for any issues related to this experimental feature.\n",
      "  model.load_state_dict(torch.load(model_path, map_location=device))\n",
      "/Users/imenekolli/Library/Caches/pypoetry/virtualenvs/pdf-parsers-JBBPt_VR-py3.11/lib/python3.11/site-packages/torch/nn/modules/transformer.py:307: UserWarning: enable_nested_tensor is True, but self.use_nested_tensor is False because encoder_layer.self_attn.batch_first was not True(use batch_first for better inference performance)\n",
      "  warnings.warn(f\"enable_nested_tensor is True, but self.use_nested_tensor is False because {why_not_sparsity_fast_path}\")\n",
      "INFO:docling.document_converter:Going to convert document batch...\n",
      "INFO:docling.document_converter:Processing document vfc.pdf\n",
      "INFO:docling.document_converter:Finished converting page batch time=12.742\n",
      "INFO:docling.document_converter:Finished converting document time-pages=12.77/1\n",
      "INFO:__main__:Processed 1 docs, of which 0 failed\n",
      "INFO:__main__:All documents were converted in 13.17 seconds.\n"
     ]
    }
   ],
   "source": [
    "def main():\n",
    "    logging.basicConfig(level=logging.INFO)\n",
    "\n",
    "    pipeline_options = PipelineOptions()\n",
    "    pipeline_options.do_ocr=True\n",
    "    pipeline_options.do_table_structure=True\n",
    "    pipeline_options.table_structure_options.do_cell_matching = True\n",
    "\n",
    "    doc_converter = DocumentConverter(\n",
    "        pipeline_options=pipeline_options,\n",
    "        pdf_backend=DoclingParseDocumentBackend,\n",
    "    )\n",
    "\n",
    "\n",
    "    # Define input files\n",
    "    input_f = DocumentConversionInput.from_paths(input_doc_paths)\n",
    "\n",
    "    start_time = time.time()\n",
    "\n",
    "    conv_results = doc_converter.convert(input_f)\n",
    "    success_count, failure_count = export_documents(\n",
    "        conv_results, output_dir=output_dir, method= \"docling_ocr\"\n",
    "    )\n",
    "\n",
    "    end_time = time.time() - start_time\n",
    "\n",
    "    _log.info(f\"All documents were converted in {end_time:.2f} seconds.\")\n",
    "\n",
    "    if failure_count > 0:\n",
    "        raise RuntimeError(\n",
    "            f\"The example failed converting {failure_count} on {len(input_doc_paths)}.\"\n",
    "        )\n",
    "\n",
    "\n",
    "if __name__ == \"__main__\":\n",
    "    main()"
   ]
  }
 ],
 "metadata": {
  "kernelspec": {
   "display_name": "pdf-parsers-JBBPt_VR-py3.11",
   "language": "python",
   "name": "python3"
  },
  "language_info": {
   "codemirror_mode": {
    "name": "ipython",
    "version": 3
   },
   "file_extension": ".py",
   "mimetype": "text/x-python",
   "name": "python",
   "nbconvert_exporter": "python",
   "pygments_lexer": "ipython3",
   "version": "3.11.3"
  }
 },
 "nbformat": 4,
 "nbformat_minor": 2
}
