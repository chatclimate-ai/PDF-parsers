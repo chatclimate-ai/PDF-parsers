{
 "cells": [
  {
   "cell_type": "code",
   "execution_count": 1,
   "metadata": {},
   "outputs": [],
   "source": [
    "api = \"llx-zGf98VzYvVeCOIqtsdxmIowrebYLOr4w3cqZpWXesBEImDcw\""
   ]
  },
  {
   "cell_type": "code",
   "execution_count": 42,
   "metadata": {},
   "outputs": [],
   "source": [
    "from pathlib import Path\n",
    "import os\n",
    "\n",
    "input_doc_paths = [\n",
    "        # Path(\"../data/2023-saudi-aramco-sustainability-report-full-ar.pdf\"), # arabic\n",
    "        # Path(\"../data/2023-saudi-aramco-sustainability-report-full-en.pdf\"), # english\n",
    "        # Path(\"../data/20230926-rockwool-brochure-faq-bd.pdf\"), # french\n",
    "        # Path(\"../data/Scanned rockwool.pdf\") # scanned/french\n",
    "        # Path(\"../data/CC_EULA_Gen_WWCombined-MULTI-20121017_1230.pdf\") # multi\n",
    "        # Path(\"../data/websites/acciona.pdf\"),\n",
    "        # Path(\"../data/websites/adobe.pdf\"),\n",
    "        # Path(\"../data/websites/edp.pdf\"),\n",
    "        # Path(\"../data/websites/ikea.pdf\"),\n",
    "        # Path(\"../data/websites/leaseplan.pdf\"),\n",
    "        # Path(\"../data/websites/mars.pdf\"),\n",
    "        # Path(\"../data/websites/rockwool.pdf\"),\n",
    "        # Path(\"../data/websites/vestas.pdf\"),\n",
    "        Path(\"../data/websites/vfc.pdf\")\n",
    "    ]\n",
    "output_dir = \"../output_llama_website\"\n",
    "os.makedirs(output_dir, exist_ok=True)"
   ]
  },
  {
   "cell_type": "code",
   "execution_count": 43,
   "metadata": {},
   "outputs": [
    {
     "name": "stderr",
     "output_type": "stream",
     "text": [
      "Parsing files: 100%|██████████| 1/1 [00:48<00:00, 48.43s/it]\n"
     ]
    }
   ],
   "source": [
    "import nest_asyncio\n",
    "\n",
    "nest_asyncio.apply()\n",
    "\n",
    "from llama_parse import LlamaParse\n",
    "\n",
    "parser = LlamaParse(\n",
    "    api_key= api,\n",
    "    result_type=\"markdown\"\n",
    ")\n",
    "\n",
    "# sync\n",
    "documents = parser.load_data(input_doc_paths)"
   ]
  },
  {
   "cell_type": "code",
   "execution_count": 44,
   "metadata": {},
   "outputs": [],
   "source": [
    "all_text = []\n",
    "\n",
    "for d in documents:\n",
    "    all_text.append(d.text)"
   ]
  },
  {
   "cell_type": "code",
   "execution_count": 45,
   "metadata": {},
   "outputs": [],
   "source": [
    "all_text = '\\n'.join(all_text)"
   ]
  },
  {
   "cell_type": "code",
   "execution_count": 46,
   "metadata": {},
   "outputs": [],
   "source": [
    "doc_filename = str(input_doc_paths[0]).split('/')[-1].split('.')[0]\n",
    "with open(f\"{output_dir}/{doc_filename}.md\", 'w') as fp:\n",
    "    fp.write(all_text)"
   ]
  }
 ],
 "metadata": {
  "kernelspec": {
   "display_name": "pdf-parsers-JBBPt_VR-py3.11",
   "language": "python",
   "name": "python3"
  },
  "language_info": {
   "codemirror_mode": {
    "name": "ipython",
    "version": 3
   },
   "file_extension": ".py",
   "mimetype": "text/x-python",
   "name": "python",
   "nbconvert_exporter": "python",
   "pygments_lexer": "ipython3",
   "version": "3.11.3"
  }
 },
 "nbformat": 4,
 "nbformat_minor": 2
}
